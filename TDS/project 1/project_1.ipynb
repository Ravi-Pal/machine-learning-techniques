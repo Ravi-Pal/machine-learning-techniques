{
 "cells": [
  {
   "cell_type": "markdown",
   "metadata": {},
   "source": [
    "### **PROJECT 1**\n",
    "Released on 28-June-2022\n",
    "\n",
    "Due Date for Submission 08-July-2022 at 23:59 hrs IST\n",
    "\n",
    "The Student has been provided with a dataset for this Project. They will have to use the tools and techniques learnt in this course and answer the below questions for their submission.\n",
    "\n",
    "The Format of submission is as follows:\n",
    "\n",
    "\n",
    "* A .csv file with Question numbers and answer written ([Refer this Document for more details](https://drive.google.com/file/d/1tk2iiRAD-u_eoD3lzeb7Ylaxubw0TqlL/view))\n",
    "\n",
    "* Please check the [Sample Submission file](https://drive.google.com/file/d/1WLgCoj1XwYV5e9mCx4DdpRy-9EM8esDo/view)\n",
    "\n",
    "* Images for specific questions have to be uploaded as a response in the given form.\n",
    "\n",
    "https://docs.google.com/forms/d/1tTijh9jBGYO6ZceZYzK9QzVaF-j2xJg3xn_2q6IkagA\n",
    "\n",
    "\n",
    "We will be evaluating both the .csv file and the uploaded images. \n",
    "\n",
    "Any formatting issue in the .csv file will result in zero marks for the relevant question(s)."
   ]
  },
  {
   "cell_type": "code",
   "execution_count": 1,
   "metadata": {},
   "outputs": [],
   "source": [
    "import numpy as np \n",
    "import pandas as pd \n",
    "import requests \n",
    "from bs4 import BeautifulSoup as bs"
   ]
  },
  {
   "cell_type": "code",
   "execution_count": 2,
   "metadata": {},
   "outputs": [],
   "source": [
    "url = 'https://www.senate.gov/legislative/LIS/roll_call_votes/vote1171/vote_117_1_00094.htm'"
   ]
  },
  {
   "cell_type": "code",
   "execution_count": 3,
   "metadata": {},
   "outputs": [],
   "source": [
    "response = requests.get(url)"
   ]
  },
  {
   "cell_type": "code",
   "execution_count": 4,
   "metadata": {},
   "outputs": [],
   "source": [
    "soup = bs(response.content)"
   ]
  },
  {
   "cell_type": "code",
   "execution_count": 5,
   "metadata": {},
   "outputs": [],
   "source": [
    "# # read the file \n",
    "# xml_data = open('vote_117_1_00094.xml' ,'r').read()\n",
    "\n",
    "# # parse XML\n",
    "# root = ET.XML(xml_data)\n",
    "\n",
    "# data = []\n",
    "# cols = []\n",
    "\n",
    "# for i,child in enumerate(root):\n",
    "#     data.append([subchild.text for subchild in child])\n",
    "#     cols.append(child.tag)\n",
    "\n",
    "\n",
    "# # creating dataframe and transpose it \n",
    "# df = pd.DataFrame(data).T\n",
    "\n",
    "# # update column names\n",
    "# df.columns = cols "
   ]
  },
  {
   "cell_type": "code",
   "execution_count": 6,
   "metadata": {},
   "outputs": [],
   "source": [
    "senator_name = []\n",
    "party_name = []\n",
    "state = []\n",
    "vote_position = []"
   ]
  },
  {
   "cell_type": "code",
   "execution_count": 7,
   "metadata": {},
   "outputs": [],
   "source": [
    "vote_summary = soup.find(class_='newspaperDisplay_3column')\n",
    "line = [i.split(',') for i in vote_summary.text.split('\\n')]\n",
    "line = line[1:-3]\n",
    "\n",
    "for i in line:\n",
    "    senator_name.append(i[0][:-7])\n",
    "    party_name.append(i[0][-5])\n",
    "    state.append(i[0][-3:-1])\n",
    "    vote_position.append(i[1][1:])"
   ]
  },
  {
   "cell_type": "code",
   "execution_count": 8,
   "metadata": {},
   "outputs": [],
   "source": [
    "df = pd.DataFrame(list(zip(senator_name, party_name, state, vote_position)), columns=['senator_name', 'party_name', 'state', 'vote_position'])\n"
   ]
  },
  {
   "cell_type": "code",
   "execution_count": 9,
   "metadata": {},
   "outputs": [],
   "source": [
    "answer = {}"
   ]
  },
  {
   "cell_type": "markdown",
   "metadata": {},
   "source": [
    "### **SECTION 1**"
   ]
  },
  {
   "cell_type": "markdown",
   "metadata": {},
   "source": [
    "1. How many democrats did not vote?\n",
    "\n",
    "ANSWER : 0 \n"
   ]
  },
  {
   "cell_type": "code",
   "execution_count": 10,
   "metadata": {},
   "outputs": [
    {
     "data": {
      "text/plain": [
       "0.0"
      ]
     },
     "execution_count": 10,
     "metadata": {},
     "output_type": "execute_result"
    }
   ],
   "source": [
    "try: \n",
    "    answer[1] = pd.crosstab(df.party_name, df.vote_position).loc['D'].loc['Not Voting']\n",
    "except:\n",
    "    answer[1] = 0 \n",
    "\n",
    "answer[1] = float(round(answer[1], 3))\n",
    "answer[1]\n"
   ]
  },
  {
   "cell_type": "markdown",
   "metadata": {},
   "source": [
    "2. How many republicans voted Yea?\n",
    "\n",
    "ANSWER : 49"
   ]
  },
  {
   "cell_type": "code",
   "execution_count": 11,
   "metadata": {},
   "outputs": [
    {
     "data": {
      "text/plain": [
       "49.0"
      ]
     },
     "execution_count": 11,
     "metadata": {},
     "output_type": "execute_result"
    }
   ],
   "source": [
    "answer[2] = pd.crosstab(df.party_name ,df.vote_position).loc['R'].loc['Yea']\n",
    "answer[2] = float(round(answer[2], 3))\n",
    "answer[2]\n"
   ]
  },
  {
   "cell_type": "markdown",
   "metadata": {},
   "source": [
    "\n",
    "3. What's the total number of Yea votes from all senators whose name starts with \"B\"?\n",
    "\n",
    "Answer : 6 "
   ]
  },
  {
   "cell_type": "code",
   "execution_count": 12,
   "metadata": {},
   "outputs": [
    {
     "data": {
      "text/plain": [
       "6.0"
      ]
     },
     "execution_count": 12,
     "metadata": {},
     "output_type": "execute_result"
    }
   ],
   "source": [
    "answer[3] = df[(df.senator_name.apply(lambda x: True if x[0] == 'B' else False))\n",
    "            & (df.vote_position == 'Yea')].shape[0]\n",
    "\n",
    "answer[3] = float(round(answer[3], 3))\n",
    "answer[3]\n"
   ]
  },
  {
   "cell_type": "markdown",
   "metadata": {},
   "source": [
    "\n",
    "4. How many states voted all Yay?\n",
    "\n",
    "Answer : 23 \n"
   ]
  },
  {
   "cell_type": "code",
   "execution_count": 13,
   "metadata": {},
   "outputs": [
    {
     "data": {
      "text/plain": [
       "23.0"
      ]
     },
     "execution_count": 13,
     "metadata": {},
     "output_type": "execute_result"
    }
   ],
   "source": [
    "answer[4] = (df[df.vote_position == 'Yea'].groupby(\n",
    "    ['state']).count()).query('vote_position == 2').shape[0]\n",
    "\n",
    "answer[4] = float(round(answer[4], 3))\n",
    "answer[4]\n"
   ]
  },
  {
   "cell_type": "markdown",
   "metadata": {},
   "source": [
    "5. How many states had at least 1 non-voting senator?\n",
    "\n",
    "ANSWER : 5 \n"
   ]
  },
  {
   "cell_type": "code",
   "execution_count": 14,
   "metadata": {},
   "outputs": [
    {
     "data": {
      "text/plain": [
       "1.0"
      ]
     },
     "execution_count": 14,
     "metadata": {},
     "output_type": "execute_result"
    }
   ],
   "source": [
    "try: \n",
    "    answer[5] = df[df.vote_position == 'Not Voting'].groupby(['State']).count().shape[0]\n",
    "\n",
    "except:\n",
    "    answer[5]=0\n",
    "\n",
    "answer[5] = float(round(answer[5], 3))\n",
    "answer[5]\n"
   ]
  },
  {
   "cell_type": "markdown",
   "metadata": {},
   "source": [
    "\n",
    "6. How many states have both Republican senators?\n",
    "\n",
    "ANSWER : 22\n"
   ]
  },
  {
   "cell_type": "code",
   "execution_count": 15,
   "metadata": {},
   "outputs": [
    {
     "data": {
      "text/plain": [
       "22.0"
      ]
     },
     "execution_count": 15,
     "metadata": {},
     "output_type": "execute_result"
    }
   ],
   "source": [
    "answer[6] = (df[df.party_name == 'R'].groupby(\n",
    "    ['state']).count()).query('party_name == 2').shape[0]\n",
    "\n",
    "answer[6] = float(round(answer[6], 3))\n",
    "answer[6]\n"
   ]
  },
  {
   "cell_type": "markdown",
   "metadata": {},
   "source": [
    "\n",
    "7. How many states have both Republican and Democrat senators?\n",
    "\n",
    "ANSWER : 5 \n"
   ]
  },
  {
   "cell_type": "code",
   "execution_count": 16,
   "metadata": {},
   "outputs": [
    {
     "data": {
      "text/plain": [
       "5.0"
      ]
     },
     "execution_count": 16,
     "metadata": {},
     "output_type": "execute_result"
    }
   ],
   "source": [
    "answer[7] = (pd.get_dummies(df,columns=['party_name']).groupby(['state']).sum()).query('party_name_R == 1 & party_name_D == 1').shape[0]\n",
    "\n",
    "answer[7] = float(round(answer[7], 3))\n",
    "answer[7]\n"
   ]
  },
  {
   "cell_type": "markdown",
   "metadata": {},
   "source": [
    "\n",
    "8. How many Senators have their names starting with W?\n",
    "\n",
    "ANSWER : 6 \n"
   ]
  },
  {
   "cell_type": "code",
   "execution_count": 17,
   "metadata": {},
   "outputs": [
    {
     "data": {
      "text/plain": [
       "6.0"
      ]
     },
     "execution_count": 17,
     "metadata": {},
     "output_type": "execute_result"
    }
   ],
   "source": [
    "answer[8] = df.senator_name.apply(lambda x:True if x[0]=='W' else False).sum()\n",
    "answer[8] = float(round(answer[8], 3))\n",
    "answer[8]\n"
   ]
  },
  {
   "cell_type": "markdown",
   "metadata": {},
   "source": [
    "\n",
    "9. What is the votes ratio of Democrats' major decision to Republicans' major decision ?\n",
    "\n",
    "ANSWER : 0.92"
   ]
  },
  {
   "cell_type": "code",
   "execution_count": 18,
   "metadata": {},
   "outputs": [
    {
     "data": {
      "text/plain": [
       "0.92"
      ]
     },
     "execution_count": 18,
     "metadata": {},
     "output_type": "execute_result"
    }
   ],
   "source": [
    "answer[9] = pd.crosstab(\n",
    "    df['party_name'], df['vote_position']).loc['D'].loc['Nay'] / pd.crosstab(df['party_name'], df['vote_position']).loc['R'].loc['Yea']\n",
    "\n",
    "\n",
    "answer[9] = float(round(answer[9] ,2))\n",
    "answer[9]\n"
   ]
  },
  {
   "cell_type": "markdown",
   "metadata": {},
   "source": [
    "\n",
    "10. What is the highest absolute difference in percentage between yea and nay senators among the different parties?\n",
    "\n",
    "ANSWER : 1400.0 % "
   ]
  },
  {
   "cell_type": "code",
   "execution_count": 19,
   "metadata": {},
   "outputs": [],
   "source": [
    "nayyea = pd.crosstab(df['party_name'], df['vote_position']).astype(float)\n",
    "ph = abs(nayyea.Yea - nayyea.Nay)/nayyea.Yea"
   ]
  },
  {
   "cell_type": "code",
   "execution_count": 20,
   "metadata": {},
   "outputs": [
    {
     "data": {
      "text/plain": [
       "'1400.0'"
      ]
     },
     "execution_count": 20,
     "metadata": {},
     "output_type": "execute_result"
    }
   ],
   "source": [
    "maximum = 0\n",
    "for i in ph:\n",
    "    if i not in [np.nan, np.infty] and i > maximum:\n",
    "        maximum = i\n",
    "\n",
    "answer[10] = str(round(maximum, 4)*100)\n",
    "answer[10]"
   ]
  },
  {
   "cell_type": "markdown",
   "metadata": {},
   "source": [
    "\n",
    "11. How many Democrats voted Yea?\n",
    "\n",
    "ANSWER : 3\n"
   ]
  },
  {
   "cell_type": "code",
   "execution_count": 21,
   "metadata": {},
   "outputs": [
    {
     "data": {
      "text/plain": [
       "3.0"
      ]
     },
     "execution_count": 21,
     "metadata": {},
     "output_type": "execute_result"
    }
   ],
   "source": [
    "answer[11] = pd.crosstab(df['party_name'] ,df['vote_position']).loc['D'].loc['Yea']\n",
    "\n",
    "answer[11] = float(round(answer[11], 3))\n",
    "answer[11]\n"
   ]
  },
  {
   "cell_type": "markdown",
   "metadata": {},
   "source": [
    "\n",
    "12. How many states voted all Nay?\n",
    "\n",
    "ANSWER : 21\n"
   ]
  },
  {
   "cell_type": "code",
   "execution_count": 22,
   "metadata": {},
   "outputs": [
    {
     "data": {
      "text/plain": [
       "21.0"
      ]
     },
     "execution_count": 22,
     "metadata": {},
     "output_type": "execute_result"
    }
   ],
   "source": [
    "answer[12] = (df[df.vote_position == 'Nay'].groupby(['state']).count()).query('vote_position ==2').shape[0]\n",
    "\n",
    "answer[12] = float(round(answer[12], 3))\n",
    "answer[12]\n"
   ]
  },
  {
   "cell_type": "markdown",
   "metadata": {},
   "source": [
    "\n",
    "13. How many states have both Democrat senators?\n",
    "\n",
    "ANSWER : 21\n"
   ]
  },
  {
   "cell_type": "code",
   "execution_count": 23,
   "metadata": {},
   "outputs": [
    {
     "data": {
      "text/plain": [
       "21.0"
      ]
     },
     "execution_count": 23,
     "metadata": {},
     "output_type": "execute_result"
    }
   ],
   "source": [
    "answer[13] = (pd.get_dummies(df, columns=['party_name']).groupby(\n",
    "    ['state']).sum()).query('party_name_D == 2').shape[0]\n",
    "\n",
    "answer[13] = float(round(answer[13], 3))\n",
    "answer[13]\n"
   ]
  },
  {
   "cell_type": "markdown",
   "metadata": {},
   "source": [
    "\n",
    "14. How many senators did not vote?\n",
    "\n",
    "ANSWER : 1 \n"
   ]
  },
  {
   "cell_type": "code",
   "execution_count": 24,
   "metadata": {},
   "outputs": [
    {
     "data": {
      "text/plain": [
       "1.0"
      ]
     },
     "execution_count": 24,
     "metadata": {},
     "output_type": "execute_result"
    }
   ],
   "source": [
    "answer[14] = df[df.vote_position == 'Not Voting'].shape[0]\n",
    "answer[14] = float(round(answer[14], 3))\n",
    "answer[14]\n"
   ]
  },
  {
   "cell_type": "markdown",
   "metadata": {},
   "source": [
    "\n",
    "15. How many states had at least 1 senator not voted?\n",
    "\n",
    "ANSWER : 1\n"
   ]
  },
  {
   "cell_type": "code",
   "execution_count": 25,
   "metadata": {},
   "outputs": [
    {
     "data": {
      "text/plain": [
       "1.0"
      ]
     },
     "execution_count": 25,
     "metadata": {},
     "output_type": "execute_result"
    }
   ],
   "source": [
    "try:\n",
    "    answer[15] = df[df.vote_position == 'Not Voting'].groupby(\n",
    "        ['State']).count().shape[0]\n",
    "\n",
    "except:\n",
    "    answer[15] = 0\n",
    "\n",
    "answer[15] = float(round(answer[15], 3))\n",
    "answer[15]\n"
   ]
  },
  {
   "cell_type": "markdown",
   "metadata": {},
   "source": [
    "\n",
    "16. Ratio of number of rows to the number of columns in your dataset?\n",
    "\n",
    "ANSWER : 25.0"
   ]
  },
  {
   "cell_type": "code",
   "execution_count": 26,
   "metadata": {},
   "outputs": [
    {
     "data": {
      "text/plain": [
       "25.0"
      ]
     },
     "execution_count": 26,
     "metadata": {},
     "output_type": "execute_result"
    }
   ],
   "source": [
    "answer[16] = df.shape[0]/df.shape[1]\n",
    "answer[16] = float(round(answer[16], 3))\n",
    "answer[16]\n"
   ]
  },
  {
   "cell_type": "markdown",
   "metadata": {},
   "source": [
    "**adding answers to .csv file**"
   ]
  },
  {
   "cell_type": "code",
   "execution_count": 27,
   "metadata": {},
   "outputs": [],
   "source": [
    "import csv \n",
    "\n",
    "answers = []\n",
    "for i in range(1,17):\n",
    "    answers.append(['Q'+str(i) ,answer[i]])\n",
    "\n",
    "filename = 'TDS project_1 answers.csv'\n",
    "\n",
    "with open(filename, 'w', newline='') as csvfile:\n",
    "    csv_writer = csv.writer(csvfile ,dialect='excel')\n",
    "    csv_writer.writerows(answers)"
   ]
  },
  {
   "cell_type": "markdown",
   "metadata": {},
   "source": [
    "### **SECTION 2**"
   ]
  },
  {
   "cell_type": "markdown",
   "metadata": {},
   "source": [
    "\n",
    "17. Plot the stacked barchart with the parties(x-axis) and number of votes(y-axis) with stacks as ‘Yea’ and ‘Nay’ ?\n",
    "\n",
    "![](Section2_answers/Q17.png)"
   ]
  },
  {
   "cell_type": "markdown",
   "metadata": {},
   "source": [
    "18. Pie chart of Republican votes ?\n",
    "\n",
    "![](Section2_answers/Q18.png)"
   ]
  },
  {
   "cell_type": "markdown",
   "metadata": {},
   "source": [
    "19. Plot the crosstab of Party and Yea/Nay as a heat map with the values\n",
    "\n",
    "![](Section2_answers/Q19.png)"
   ]
  },
  {
   "cell_type": "markdown",
   "metadata": {},
   "source": [
    "\n",
    "20. Pie chart representing the number of states in which Democrats domination, Republican domination and Democrats, Republicans in equal ?"
   ]
  }
 ],
 "metadata": {
  "kernelspec": {
   "display_name": "Python 3.9.7 ('tensorflow')",
   "language": "python",
   "name": "python3"
  },
  "language_info": {
   "codemirror_mode": {
    "name": "ipython",
    "version": 3
   },
   "file_extension": ".py",
   "mimetype": "text/x-python",
   "name": "python",
   "nbconvert_exporter": "python",
   "pygments_lexer": "ipython3",
   "version": "3.9.7"
  },
  "orig_nbformat": 4,
  "vscode": {
   "interpreter": {
    "hash": "32f02dc107888b055323539767db1f9cf579f03b0ed3a3ace7986ed2d38433ec"
   }
  }
 },
 "nbformat": 4,
 "nbformat_minor": 2
}
