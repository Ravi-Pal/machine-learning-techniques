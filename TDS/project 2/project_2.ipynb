{
 "cells": [
  {
   "cell_type": "markdown",
   "metadata": {},
   "source": [
    "### **PROJECT 2**\n",
    "Released on 11-July-2022\n",
    "\n",
    "Due Date for Submission 20-July-2022 at 23:59 hrs IST\n"
   ]
  },
  {
   "cell_type": "markdown",
   "metadata": {},
   "source": [
    "The Student has been provided with a dataset for this Project. They will have to use the tools and techniques learnt in this course and answer the below questions for their submission.\n",
    "\n",
    "\n",
    "The Format of submission is as follows : \n",
    "\n",
    "A .csv file with Question numbers and answers written.\n",
    "\n",
    "Images for specific questions have to be uploaded as a response in the given form\n",
    "\n",
    "\n",
    "Please check the [Sample Submission file](https://drive.google.com/file/d/1CYSjy8HJCmZo24_yU08bKaO-Rvs4-Mmo/view)\n",
    "\n",
    "Also check the [Image Upload Link](https://docs.google.com/forms/d/1Kx0LcsKXQoRGSncH-Xb1ExA39N7sIy0wzE1MctYgyvA/viewform?edit_requested=true)\n",
    "\n",
    "We will be evaluating both the .csv file and the published links. Any formatting issue in the .csv file will result in zero marks for the relevant question(s).\n",
    "\n"
   ]
  },
  {
   "cell_type": "markdown",
   "metadata": {},
   "source": [
    "\n",
    "\n",
    "### **FILES :** \n",
    "\n",
    "\n",
    "**ratings.csv**  contains ratings sorted by time. Ratings go from one to five. Both book IDs and user IDs are contiguous. For books, they are 1-10000, for users, 1-53424.\n",
    "\n",
    "**to_read.csv** provides IDs of the books marked \"to read\" by each user, as user_id,book_id pairs, sorted by time.\n",
    "\n",
    "**books.csv** has metadata for each book (goodreads IDs, authors, title, average rating, etc.). The metadata has been extracted from goodreads XML files.\n",
    "\n",
    "**book_tags.csv** contains tags/shelves/genres assigned by users to books. Tags in this file are represented by their IDs. Each book_id  has multiple tag_id.The field \"count\" denotes ‘user records’ (the number of users tagged the given tag_id with the goodreads_book_id).\n"
   ]
  },
  {
   "cell_type": "markdown",
   "metadata": {},
   "source": [
    "\n",
    "### **NOTES :**\n",
    "\n",
    "*Answering:*\n",
    "\n",
    "* Dataset to be referred will be mentioned in the square brackets for each question.eg [books.csv]\n",
    "\n",
    "* String answers (“S”)   will be evaluated against entries from the column “title” in [books.csv]\n",
    "\n",
    "*Data Cleaning:*\n",
    "\n",
    "* For Q1 Find the value from the original csv file [books.csv]. For remaining questions  remove null values in 'original_title'.\n",
    "\n",
    "* Ensure for  Q14 null values are removed from  'original_title' to perform sentiment analysis.\n"
   ]
  },
  {
   "cell_type": "markdown",
   "metadata": {},
   "source": [
    "### **QUESTIONS :**\n",
    "\n"
   ]
  },
  {
   "cell_type": "code",
   "execution_count": 1,
   "metadata": {},
   "outputs": [],
   "source": [
    "import numpy as np \n",
    "import pandas as pd \n",
    "import matplotlib.pyplot as plt "
   ]
  },
  {
   "cell_type": "code",
   "execution_count": 2,
   "metadata": {},
   "outputs": [],
   "source": [
    "pd.set_option('float_format', '{:f}'.format)"
   ]
  },
  {
   "cell_type": "code",
   "execution_count": 3,
   "metadata": {},
   "outputs": [
    {
     "data": {
      "text/html": [
       "<div>\n",
       "<style scoped>\n",
       "    .dataframe tbody tr th:only-of-type {\n",
       "        vertical-align: middle;\n",
       "    }\n",
       "\n",
       "    .dataframe tbody tr th {\n",
       "        vertical-align: top;\n",
       "    }\n",
       "\n",
       "    .dataframe thead th {\n",
       "        text-align: right;\n",
       "    }\n",
       "</style>\n",
       "<table border=\"1\" class=\"dataframe\">\n",
       "  <thead>\n",
       "    <tr style=\"text-align: right;\">\n",
       "      <th></th>\n",
       "      <th>goodreads_book_id</th>\n",
       "      <th>tag_id</th>\n",
       "      <th>count</th>\n",
       "    </tr>\n",
       "  </thead>\n",
       "  <tbody>\n",
       "    <tr>\n",
       "      <th>0</th>\n",
       "      <td>50</td>\n",
       "      <td>8717</td>\n",
       "      <td>2212</td>\n",
       "    </tr>\n",
       "    <tr>\n",
       "      <th>1</th>\n",
       "      <td>50</td>\n",
       "      <td>33114</td>\n",
       "      <td>2121</td>\n",
       "    </tr>\n",
       "    <tr>\n",
       "      <th>2</th>\n",
       "      <td>50</td>\n",
       "      <td>11743</td>\n",
       "      <td>1587</td>\n",
       "    </tr>\n",
       "    <tr>\n",
       "      <th>3</th>\n",
       "      <td>50</td>\n",
       "      <td>1691</td>\n",
       "      <td>934</td>\n",
       "    </tr>\n",
       "    <tr>\n",
       "      <th>4</th>\n",
       "      <td>50</td>\n",
       "      <td>11557</td>\n",
       "      <td>890</td>\n",
       "    </tr>\n",
       "  </tbody>\n",
       "</table>\n",
       "</div>"
      ],
      "text/plain": [
       "   goodreads_book_id  tag_id  count\n",
       "0                 50    8717   2212\n",
       "1                 50   33114   2121\n",
       "2                 50   11743   1587\n",
       "3                 50    1691    934\n",
       "4                 50   11557    890"
      ]
     },
     "execution_count": 3,
     "metadata": {},
     "output_type": "execute_result"
    }
   ],
   "source": [
    "book_tags = pd.read_csv('DATASET/book_tags.csv')\n",
    "book_tags.head()"
   ]
  },
  {
   "cell_type": "code",
   "execution_count": 4,
   "metadata": {},
   "outputs": [
    {
     "name": "stdout",
     "output_type": "stream",
     "text": [
      "<class 'pandas.core.frame.DataFrame'>\n",
      "RangeIndex: 55800 entries, 0 to 55799\n",
      "Data columns (total 3 columns):\n",
      " #   Column             Non-Null Count  Dtype\n",
      "---  ------             --------------  -----\n",
      " 0   goodreads_book_id  55800 non-null  int64\n",
      " 1   tag_id             55800 non-null  int64\n",
      " 2   count              55800 non-null  int64\n",
      "dtypes: int64(3)\n",
      "memory usage: 1.3 MB\n"
     ]
    }
   ],
   "source": [
    "book_tags.info()"
   ]
  },
  {
   "cell_type": "code",
   "execution_count": 5,
   "metadata": {},
   "outputs": [
    {
     "data": {
      "text/html": [
       "<div>\n",
       "<style scoped>\n",
       "    .dataframe tbody tr th:only-of-type {\n",
       "        vertical-align: middle;\n",
       "    }\n",
       "\n",
       "    .dataframe tbody tr th {\n",
       "        vertical-align: top;\n",
       "    }\n",
       "\n",
       "    .dataframe thead th {\n",
       "        text-align: right;\n",
       "    }\n",
       "</style>\n",
       "<table border=\"1\" class=\"dataframe\">\n",
       "  <thead>\n",
       "    <tr style=\"text-align: right;\">\n",
       "      <th></th>\n",
       "      <th>book_id</th>\n",
       "      <th>goodreads_book_id</th>\n",
       "      <th>best_book_id</th>\n",
       "      <th>work_id</th>\n",
       "      <th>books_count</th>\n",
       "      <th>isbn</th>\n",
       "      <th>isbn13</th>\n",
       "      <th>authors</th>\n",
       "      <th>original_publication_year</th>\n",
       "      <th>original_title</th>\n",
       "      <th>...</th>\n",
       "      <th>work_ratings_count</th>\n",
       "      <th>work_text_reviews_count</th>\n",
       "      <th>ratings_1</th>\n",
       "      <th>ratings_2</th>\n",
       "      <th>ratings_3</th>\n",
       "      <th>ratings_4</th>\n",
       "      <th>ratings_5</th>\n",
       "      <th>image_url</th>\n",
       "      <th>small_image_url</th>\n",
       "      <th>NonEnglish</th>\n",
       "    </tr>\n",
       "  </thead>\n",
       "  <tbody>\n",
       "    <tr>\n",
       "      <th>0</th>\n",
       "      <td>36</td>\n",
       "      <td>3636</td>\n",
       "      <td>3636</td>\n",
       "      <td>2543234</td>\n",
       "      <td>192</td>\n",
       "      <td>385732554</td>\n",
       "      <td>9780385732550.000000</td>\n",
       "      <td>Lois Lowry</td>\n",
       "      <td>1993.000000</td>\n",
       "      <td>The Giver</td>\n",
       "      <td>...</td>\n",
       "      <td>1345445</td>\n",
       "      <td>54084</td>\n",
       "      <td>26497</td>\n",
       "      <td>59652</td>\n",
       "      <td>225326</td>\n",
       "      <td>448691</td>\n",
       "      <td>585279</td>\n",
       "      <td>https://images.gr-assets.com/books/1342493368m...</td>\n",
       "      <td>https://images.gr-assets.com/books/1342493368s...</td>\n",
       "      <td>0</td>\n",
       "    </tr>\n",
       "    <tr>\n",
       "      <th>1</th>\n",
       "      <td>37</td>\n",
       "      <td>100915</td>\n",
       "      <td>100915</td>\n",
       "      <td>4790821</td>\n",
       "      <td>474</td>\n",
       "      <td>60764899</td>\n",
       "      <td>9780060764890.000000</td>\n",
       "      <td>C.S. Lewis</td>\n",
       "      <td>1950.000000</td>\n",
       "      <td>The Lion, the Witch and the Wardrobe</td>\n",
       "      <td>...</td>\n",
       "      <td>1584884</td>\n",
       "      <td>15186</td>\n",
       "      <td>19309</td>\n",
       "      <td>55542</td>\n",
       "      <td>262038</td>\n",
       "      <td>513366</td>\n",
       "      <td>734629</td>\n",
       "      <td>https://images.gr-assets.com/books/1353029077m...</td>\n",
       "      <td>https://images.gr-assets.com/books/1353029077s...</td>\n",
       "      <td>0</td>\n",
       "    </tr>\n",
       "    <tr>\n",
       "      <th>2</th>\n",
       "      <td>50</td>\n",
       "      <td>30119</td>\n",
       "      <td>30119</td>\n",
       "      <td>30518</td>\n",
       "      <td>45</td>\n",
       "      <td>60513039</td>\n",
       "      <td>9780060513030.000000</td>\n",
       "      <td>Shel Silverstein</td>\n",
       "      <td>1974.000000</td>\n",
       "      <td>Where the Sidewalk Ends: The Poems and Drawing...</td>\n",
       "      <td>...</td>\n",
       "      <td>1023781</td>\n",
       "      <td>9234</td>\n",
       "      <td>16590</td>\n",
       "      <td>30792</td>\n",
       "      <td>139024</td>\n",
       "      <td>293222</td>\n",
       "      <td>544153</td>\n",
       "      <td>https://images.gr-assets.com/books/1168052448m...</td>\n",
       "      <td>https://images.gr-assets.com/books/1168052448s...</td>\n",
       "      <td>0</td>\n",
       "    </tr>\n",
       "    <tr>\n",
       "      <th>3</th>\n",
       "      <td>59</td>\n",
       "      <td>24178</td>\n",
       "      <td>24178</td>\n",
       "      <td>987048</td>\n",
       "      <td>180</td>\n",
       "      <td>64410935</td>\n",
       "      <td>9780064410940.000000</td>\n",
       "      <td>E.B. White, Garth Williams, Rosemary Wells</td>\n",
       "      <td>1952.000000</td>\n",
       "      <td>Charlotte's Web</td>\n",
       "      <td>...</td>\n",
       "      <td>1084842</td>\n",
       "      <td>13044</td>\n",
       "      <td>18450</td>\n",
       "      <td>41124</td>\n",
       "      <td>191415</td>\n",
       "      <td>346090</td>\n",
       "      <td>487763</td>\n",
       "      <td>https://images.gr-assets.com/books/1439632243m...</td>\n",
       "      <td>https://images.gr-assets.com/books/1439632243s...</td>\n",
       "      <td>0</td>\n",
       "    </tr>\n",
       "    <tr>\n",
       "      <th>4</th>\n",
       "      <td>77</td>\n",
       "      <td>38709</td>\n",
       "      <td>38709</td>\n",
       "      <td>1679789</td>\n",
       "      <td>138</td>\n",
       "      <td>439244196</td>\n",
       "      <td>9780439244190.000000</td>\n",
       "      <td>Louis Sachar, Louis Sachar</td>\n",
       "      <td>1998.000000</td>\n",
       "      <td>Holes</td>\n",
       "      <td>...</td>\n",
       "      <td>764637</td>\n",
       "      <td>15832</td>\n",
       "      <td>15495</td>\n",
       "      <td>43786</td>\n",
       "      <td>176946</td>\n",
       "      <td>269153</td>\n",
       "      <td>259257</td>\n",
       "      <td>https://images.gr-assets.com/books/1327781893m...</td>\n",
       "      <td>https://images.gr-assets.com/books/1327781893s...</td>\n",
       "      <td>0</td>\n",
       "    </tr>\n",
       "  </tbody>\n",
       "</table>\n",
       "<p>5 rows × 24 columns</p>\n",
       "</div>"
      ],
      "text/plain": [
       "   book_id  goodreads_book_id  best_book_id  work_id  books_count       isbn  \\\n",
       "0       36               3636          3636  2543234          192  385732554   \n",
       "1       37             100915        100915  4790821          474   60764899   \n",
       "2       50              30119         30119    30518           45   60513039   \n",
       "3       59              24178         24178   987048          180   64410935   \n",
       "4       77              38709         38709  1679789          138  439244196   \n",
       "\n",
       "                isbn13                                     authors  \\\n",
       "0 9780385732550.000000                                  Lois Lowry   \n",
       "1 9780060764890.000000                                  C.S. Lewis   \n",
       "2 9780060513030.000000                            Shel Silverstein   \n",
       "3 9780064410940.000000  E.B. White, Garth Williams, Rosemary Wells   \n",
       "4 9780439244190.000000                  Louis Sachar, Louis Sachar   \n",
       "\n",
       "   original_publication_year  \\\n",
       "0                1993.000000   \n",
       "1                1950.000000   \n",
       "2                1974.000000   \n",
       "3                1952.000000   \n",
       "4                1998.000000   \n",
       "\n",
       "                                      original_title  ... work_ratings_count  \\\n",
       "0                                          The Giver  ...            1345445   \n",
       "1               The Lion, the Witch and the Wardrobe  ...            1584884   \n",
       "2  Where the Sidewalk Ends: The Poems and Drawing...  ...            1023781   \n",
       "3                                    Charlotte's Web  ...            1084842   \n",
       "4                                              Holes  ...             764637   \n",
       "\n",
       "  work_text_reviews_count  ratings_1  ratings_2  ratings_3  ratings_4  \\\n",
       "0                   54084      26497      59652     225326     448691   \n",
       "1                   15186      19309      55542     262038     513366   \n",
       "2                    9234      16590      30792     139024     293222   \n",
       "3                   13044      18450      41124     191415     346090   \n",
       "4                   15832      15495      43786     176946     269153   \n",
       "\n",
       "   ratings_5                                          image_url  \\\n",
       "0     585279  https://images.gr-assets.com/books/1342493368m...   \n",
       "1     734629  https://images.gr-assets.com/books/1353029077m...   \n",
       "2     544153  https://images.gr-assets.com/books/1168052448m...   \n",
       "3     487763  https://images.gr-assets.com/books/1439632243m...   \n",
       "4     259257  https://images.gr-assets.com/books/1327781893m...   \n",
       "\n",
       "                                     small_image_url  NonEnglish  \n",
       "0  https://images.gr-assets.com/books/1342493368s...           0  \n",
       "1  https://images.gr-assets.com/books/1353029077s...           0  \n",
       "2  https://images.gr-assets.com/books/1168052448s...           0  \n",
       "3  https://images.gr-assets.com/books/1439632243s...           0  \n",
       "4  https://images.gr-assets.com/books/1327781893s...           0  \n",
       "\n",
       "[5 rows x 24 columns]"
      ]
     },
     "execution_count": 5,
     "metadata": {},
     "output_type": "execute_result"
    }
   ],
   "source": [
    "books = pd.read_csv('DATASET/books.csv')\n",
    "books.head()"
   ]
  },
  {
   "cell_type": "code",
   "execution_count": 6,
   "metadata": {},
   "outputs": [
    {
     "name": "stdout",
     "output_type": "stream",
     "text": [
      "<class 'pandas.core.frame.DataFrame'>\n",
      "RangeIndex: 556 entries, 0 to 555\n",
      "Data columns (total 24 columns):\n",
      " #   Column                     Non-Null Count  Dtype  \n",
      "---  ------                     --------------  -----  \n",
      " 0   book_id                    556 non-null    int64  \n",
      " 1   goodreads_book_id          556 non-null    int64  \n",
      " 2   best_book_id               556 non-null    int64  \n",
      " 3   work_id                    556 non-null    int64  \n",
      " 4   books_count                556 non-null    int64  \n",
      " 5   isbn                       552 non-null    object \n",
      " 6   isbn13                     556 non-null    float64\n",
      " 7   authors                    556 non-null    object \n",
      " 8   original_publication_year  552 non-null    float64\n",
      " 9   original_title             517 non-null    object \n",
      " 10  title                      556 non-null    object \n",
      " 11  language_code              476 non-null    object \n",
      " 12  average_rating             556 non-null    float64\n",
      " 13  ratings_count              556 non-null    int64  \n",
      " 14  work_ratings_count         556 non-null    int64  \n",
      " 15  work_text_reviews_count    556 non-null    int64  \n",
      " 16  ratings_1                  556 non-null    int64  \n",
      " 17  ratings_2                  556 non-null    int64  \n",
      " 18  ratings_3                  556 non-null    int64  \n",
      " 19  ratings_4                  556 non-null    int64  \n",
      " 20  ratings_5                  556 non-null    int64  \n",
      " 21  image_url                  556 non-null    object \n",
      " 22  small_image_url            556 non-null    object \n",
      " 23  NonEnglish                 556 non-null    int64  \n",
      "dtypes: float64(3), int64(14), object(7)\n",
      "memory usage: 104.4+ KB\n"
     ]
    }
   ],
   "source": [
    "books.info()"
   ]
  },
  {
   "cell_type": "code",
   "execution_count": 7,
   "metadata": {},
   "outputs": [
    {
     "data": {
      "text/html": [
       "<div>\n",
       "<style scoped>\n",
       "    .dataframe tbody tr th:only-of-type {\n",
       "        vertical-align: middle;\n",
       "    }\n",
       "\n",
       "    .dataframe tbody tr th {\n",
       "        vertical-align: top;\n",
       "    }\n",
       "\n",
       "    .dataframe thead th {\n",
       "        text-align: right;\n",
       "    }\n",
       "</style>\n",
       "<table border=\"1\" class=\"dataframe\">\n",
       "  <thead>\n",
       "    <tr style=\"text-align: right;\">\n",
       "      <th></th>\n",
       "      <th>user_id</th>\n",
       "      <th>book_id</th>\n",
       "      <th>rating</th>\n",
       "    </tr>\n",
       "  </thead>\n",
       "  <tbody>\n",
       "    <tr>\n",
       "      <th>0</th>\n",
       "      <td>4</td>\n",
       "      <td>388</td>\n",
       "      <td>4</td>\n",
       "    </tr>\n",
       "    <tr>\n",
       "      <th>1</th>\n",
       "      <td>4</td>\n",
       "      <td>36</td>\n",
       "      <td>5</td>\n",
       "    </tr>\n",
       "    <tr>\n",
       "      <th>2</th>\n",
       "      <td>4</td>\n",
       "      <td>102</td>\n",
       "      <td>5</td>\n",
       "    </tr>\n",
       "    <tr>\n",
       "      <th>3</th>\n",
       "      <td>4</td>\n",
       "      <td>50</td>\n",
       "      <td>4</td>\n",
       "    </tr>\n",
       "    <tr>\n",
       "      <th>4</th>\n",
       "      <td>4</td>\n",
       "      <td>158</td>\n",
       "      <td>4</td>\n",
       "    </tr>\n",
       "  </tbody>\n",
       "</table>\n",
       "</div>"
      ],
      "text/plain": [
       "   user_id  book_id  rating\n",
       "0        4      388       4\n",
       "1        4       36       5\n",
       "2        4      102       5\n",
       "3        4       50       4\n",
       "4        4      158       4"
      ]
     },
     "execution_count": 7,
     "metadata": {},
     "output_type": "execute_result"
    }
   ],
   "source": [
    "ratings = pd.read_csv('Dataset/ratings.csv')\n",
    "ratings.head()"
   ]
  },
  {
   "cell_type": "code",
   "execution_count": 8,
   "metadata": {},
   "outputs": [
    {
     "name": "stdout",
     "output_type": "stream",
     "text": [
      "<class 'pandas.core.frame.DataFrame'>\n",
      "RangeIndex: 461029 entries, 0 to 461028\n",
      "Data columns (total 3 columns):\n",
      " #   Column   Non-Null Count   Dtype\n",
      "---  ------   --------------   -----\n",
      " 0   user_id  461029 non-null  int64\n",
      " 1   book_id  461029 non-null  int64\n",
      " 2   rating   461029 non-null  int64\n",
      "dtypes: int64(3)\n",
      "memory usage: 10.6 MB\n"
     ]
    }
   ],
   "source": [
    "ratings.info()"
   ]
  },
  {
   "cell_type": "code",
   "execution_count": 9,
   "metadata": {},
   "outputs": [
    {
     "data": {
      "text/html": [
       "<div>\n",
       "<style scoped>\n",
       "    .dataframe tbody tr th:only-of-type {\n",
       "        vertical-align: middle;\n",
       "    }\n",
       "\n",
       "    .dataframe tbody tr th {\n",
       "        vertical-align: top;\n",
       "    }\n",
       "\n",
       "    .dataframe thead th {\n",
       "        text-align: right;\n",
       "    }\n",
       "</style>\n",
       "<table border=\"1\" class=\"dataframe\">\n",
       "  <thead>\n",
       "    <tr style=\"text-align: right;\">\n",
       "      <th></th>\n",
       "      <th>user_id</th>\n",
       "      <th>book_id</th>\n",
       "    </tr>\n",
       "  </thead>\n",
       "  <tbody>\n",
       "    <tr>\n",
       "      <th>0</th>\n",
       "      <td>506</td>\n",
       "      <td>241</td>\n",
       "    </tr>\n",
       "    <tr>\n",
       "      <th>1</th>\n",
       "      <td>504</td>\n",
       "      <td>219</td>\n",
       "    </tr>\n",
       "    <tr>\n",
       "      <th>2</th>\n",
       "      <td>564</td>\n",
       "      <td>36</td>\n",
       "    </tr>\n",
       "    <tr>\n",
       "      <th>3</th>\n",
       "      <td>756</td>\n",
       "      <td>621</td>\n",
       "    </tr>\n",
       "    <tr>\n",
       "      <th>4</th>\n",
       "      <td>589</td>\n",
       "      <td>1977</td>\n",
       "    </tr>\n",
       "  </tbody>\n",
       "</table>\n",
       "</div>"
      ],
      "text/plain": [
       "   user_id  book_id\n",
       "0      506      241\n",
       "1      504      219\n",
       "2      564       36\n",
       "3      756      621\n",
       "4      589     1977"
      ]
     },
     "execution_count": 9,
     "metadata": {},
     "output_type": "execute_result"
    }
   ],
   "source": [
    "toread = pd.read_csv('Dataset/toread.csv')\n",
    "toread.head()"
   ]
  },
  {
   "cell_type": "code",
   "execution_count": 10,
   "metadata": {},
   "outputs": [
    {
     "name": "stdout",
     "output_type": "stream",
     "text": [
      "<class 'pandas.core.frame.DataFrame'>\n",
      "RangeIndex: 28711 entries, 0 to 28710\n",
      "Data columns (total 2 columns):\n",
      " #   Column   Non-Null Count  Dtype\n",
      "---  ------   --------------  -----\n",
      " 0   user_id  28711 non-null  int64\n",
      " 1   book_id  28711 non-null  int64\n",
      "dtypes: int64(2)\n",
      "memory usage: 448.7 KB\n"
     ]
    }
   ],
   "source": [
    "toread.info()"
   ]
  },
  {
   "cell_type": "markdown",
   "metadata": {},
   "source": [
    "**Question 1 :** \n",
    "\n",
    "How many books do not have an original title [books.csv] ? N\n",
    "\n",
    "**Answer :** 39"
   ]
  },
  {
   "cell_type": "code",
   "execution_count": 11,
   "metadata": {},
   "outputs": [
    {
     "data": {
      "text/plain": [
       "39"
      ]
     },
     "execution_count": 11,
     "metadata": {},
     "output_type": "execute_result"
    }
   ],
   "source": [
    "books['book_id'].nunique() - books['original_title'].count()"
   ]
  },
  {
   "cell_type": "code",
   "execution_count": 12,
   "metadata": {},
   "outputs": [
    {
     "data": {
      "text/plain": [
       "39"
      ]
     },
     "execution_count": 12,
     "metadata": {},
     "output_type": "execute_result"
    }
   ],
   "source": [
    "# 2nd way \n",
    "books['original_title'].isna().sum()"
   ]
  },
  {
   "cell_type": "markdown",
   "metadata": {},
   "source": [
    "**Removing null values from 'original_title'**"
   ]
  },
  {
   "cell_type": "code",
   "execution_count": 13,
   "metadata": {},
   "outputs": [
    {
     "data": {
      "text/plain": [
       "book_id                       0\n",
       "goodreads_book_id             0\n",
       "best_book_id                  0\n",
       "work_id                       0\n",
       "books_count                   0\n",
       "isbn                          4\n",
       "isbn13                        0\n",
       "authors                       0\n",
       "original_publication_year     4\n",
       "original_title               39\n",
       "title                         0\n",
       "language_code                80\n",
       "average_rating                0\n",
       "ratings_count                 0\n",
       "work_ratings_count            0\n",
       "work_text_reviews_count       0\n",
       "ratings_1                     0\n",
       "ratings_2                     0\n",
       "ratings_3                     0\n",
       "ratings_4                     0\n",
       "ratings_5                     0\n",
       "image_url                     0\n",
       "small_image_url               0\n",
       "NonEnglish                    0\n",
       "dtype: int64"
      ]
     },
     "execution_count": 13,
     "metadata": {},
     "output_type": "execute_result"
    }
   ],
   "source": [
    "books_ = books.copy()\n",
    "books_.isnull().sum()"
   ]
  },
  {
   "cell_type": "code",
   "execution_count": 14,
   "metadata": {},
   "outputs": [],
   "source": [
    "books_.dropna(subset=['original_title'],inplace=True)"
   ]
  },
  {
   "cell_type": "code",
   "execution_count": 15,
   "metadata": {},
   "outputs": [
    {
     "data": {
      "text/plain": [
       "book_id                       0\n",
       "goodreads_book_id             0\n",
       "best_book_id                  0\n",
       "work_id                       0\n",
       "books_count                   0\n",
       "isbn                          4\n",
       "isbn13                        0\n",
       "authors                       0\n",
       "original_publication_year     2\n",
       "original_title                0\n",
       "title                         0\n",
       "language_code                77\n",
       "average_rating                0\n",
       "ratings_count                 0\n",
       "work_ratings_count            0\n",
       "work_text_reviews_count       0\n",
       "ratings_1                     0\n",
       "ratings_2                     0\n",
       "ratings_3                     0\n",
       "ratings_4                     0\n",
       "ratings_5                     0\n",
       "image_url                     0\n",
       "small_image_url               0\n",
       "NonEnglish                    0\n",
       "dtype: int64"
      ]
     },
     "execution_count": 15,
     "metadata": {},
     "output_type": "execute_result"
    }
   ],
   "source": [
    "books_.isnull().sum()"
   ]
  },
  {
   "cell_type": "markdown",
   "metadata": {},
   "source": [
    "**Question 2 :** \n",
    "\n",
    "How many unique books are present in the dataset ? Evaluate based on the 'book_id' [books.csv]  N\n",
    "\n",
    "**Answer :** 556"
   ]
  },
  {
   "cell_type": "code",
   "execution_count": 16,
   "metadata": {},
   "outputs": [
    {
     "data": {
      "text/plain": [
       "556"
      ]
     },
     "execution_count": 16,
     "metadata": {},
     "output_type": "execute_result"
    }
   ],
   "source": [
    "books['book_id'].nunique()"
   ]
  },
  {
   "cell_type": "markdown",
   "metadata": {},
   "source": [
    "**Question 3 :** \n",
    "\n",
    "How many unique users are present in the dataset [ratings.csv] ? N\n",
    "\n",
    "**Answer :** 41797"
   ]
  },
  {
   "cell_type": "code",
   "execution_count": 17,
   "metadata": {},
   "outputs": [
    {
     "data": {
      "text/plain": [
       "41797"
      ]
     },
     "execution_count": 17,
     "metadata": {},
     "output_type": "execute_result"
    }
   ],
   "source": [
    "ratings['user_id'].nunique()"
   ]
  },
  {
   "cell_type": "markdown",
   "metadata": {},
   "source": [
    "**Question 4 :**\n",
    "\n",
    "\n",
    "Which book (title) has the maximum number of ratings based on ‘work_ratings_count’  [books.csv] ? S\n",
    "\n",
    "**Answer :** The Lion, the Witch and the Wardrobe\n"
   ]
  },
  {
   "cell_type": "code",
   "execution_count": 18,
   "metadata": {},
   "outputs": [
    {
     "data": {
      "text/plain": [
       "'The Lion, the Witch and the Wardrobe'"
      ]
     },
     "execution_count": 18,
     "metadata": {},
     "output_type": "execute_result"
    }
   ],
   "source": [
    "books.sort_values(by='work_ratings_count', ascending=False).iloc[0,:]['original_title']"
   ]
  },
  {
   "cell_type": "markdown",
   "metadata": {},
   "source": [
    "**Question 5 :** \n",
    "\n",
    "Which tag_id  is the most frequently used ie. mapped with the highest number of books [book_tags.csv]  ? (In case of more than one tag, mention the tag id with the least numerical value) N\n",
    "\n",
    "**Answer :** 30574"
   ]
  },
  {
   "cell_type": "code",
   "execution_count": 19,
   "metadata": {},
   "outputs": [
    {
     "data": {
      "text/plain": [
       "30574"
      ]
     },
     "execution_count": 19,
     "metadata": {},
     "output_type": "execute_result"
    }
   ],
   "source": [
    "book_tags.sort_values(by='count', ascending=False).iloc[0,:]['tag_id']"
   ]
  },
  {
   "cell_type": "code",
   "execution_count": 20,
   "metadata": {},
   "outputs": [
    {
     "data": {
      "text/html": [
       "<div>\n",
       "<style scoped>\n",
       "    .dataframe tbody tr th:only-of-type {\n",
       "        vertical-align: middle;\n",
       "    }\n",
       "\n",
       "    .dataframe tbody tr th {\n",
       "        vertical-align: top;\n",
       "    }\n",
       "\n",
       "    .dataframe thead th {\n",
       "        text-align: right;\n",
       "    }\n",
       "</style>\n",
       "<table border=\"1\" class=\"dataframe\">\n",
       "  <thead>\n",
       "    <tr style=\"text-align: right;\">\n",
       "      <th></th>\n",
       "      <th>goodreads_book_id</th>\n",
       "      <th>tag_id</th>\n",
       "      <th>count</th>\n",
       "    </tr>\n",
       "  </thead>\n",
       "  <tbody>\n",
       "    <tr>\n",
       "      <th>52100</th>\n",
       "      <td>11387515</td>\n",
       "      <td>30574</td>\n",
       "      <td>248197</td>\n",
       "    </tr>\n",
       "    <tr>\n",
       "      <th>7900</th>\n",
       "      <td>18131</td>\n",
       "      <td>30574</td>\n",
       "      <td>228455</td>\n",
       "    </tr>\n",
       "    <tr>\n",
       "      <th>700</th>\n",
       "      <td>2998</td>\n",
       "      <td>30574</td>\n",
       "      <td>222156</td>\n",
       "    </tr>\n",
       "    <tr>\n",
       "      <th>32100</th>\n",
       "      <td>370493</td>\n",
       "      <td>30574</td>\n",
       "      <td>181787</td>\n",
       "    </tr>\n",
       "    <tr>\n",
       "      <th>9200</th>\n",
       "      <td>24213</td>\n",
       "      <td>30574</td>\n",
       "      <td>129449</td>\n",
       "    </tr>\n",
       "    <tr>\n",
       "      <th>...</th>\n",
       "      <td>...</td>\n",
       "      <td>...</td>\n",
       "      <td>...</td>\n",
       "    </tr>\n",
       "    <tr>\n",
       "      <th>49497</th>\n",
       "      <td>7278837</td>\n",
       "      <td>1174</td>\n",
       "      <td>1</td>\n",
       "    </tr>\n",
       "    <tr>\n",
       "      <th>44985</th>\n",
       "      <td>1693617</td>\n",
       "      <td>17170</td>\n",
       "      <td>1</td>\n",
       "    </tr>\n",
       "    <tr>\n",
       "      <th>44984</th>\n",
       "      <td>1693617</td>\n",
       "      <td>29816</td>\n",
       "      <td>1</td>\n",
       "    </tr>\n",
       "    <tr>\n",
       "      <th>50555</th>\n",
       "      <td>9366879</td>\n",
       "      <td>22689</td>\n",
       "      <td>1</td>\n",
       "    </tr>\n",
       "    <tr>\n",
       "      <th>45073</th>\n",
       "      <td>1728744</td>\n",
       "      <td>17085</td>\n",
       "      <td>1</td>\n",
       "    </tr>\n",
       "  </tbody>\n",
       "</table>\n",
       "<p>55800 rows × 3 columns</p>\n",
       "</div>"
      ],
      "text/plain": [
       "       goodreads_book_id  tag_id   count\n",
       "52100           11387515   30574  248197\n",
       "7900               18131   30574  228455\n",
       "700                 2998   30574  222156\n",
       "32100             370493   30574  181787\n",
       "9200               24213   30574  129449\n",
       "...                  ...     ...     ...\n",
       "49497            7278837    1174       1\n",
       "44985            1693617   17170       1\n",
       "44984            1693617   29816       1\n",
       "50555            9366879   22689       1\n",
       "45073            1728744   17085       1\n",
       "\n",
       "[55800 rows x 3 columns]"
      ]
     },
     "execution_count": 20,
     "metadata": {},
     "output_type": "execute_result"
    }
   ],
   "source": [
    "# another way\n",
    "book_tags.sort_values(by='count', ascending=False)"
   ]
  },
  {
   "cell_type": "markdown",
   "metadata": {},
   "source": [
    "**Question 6 :**\n",
    "\n",
    "Which book (title) has the most number of counts of tags given by the user [book_tags.csv,books.csv]  ? S\n",
    "\n",
    "**Answer :** Wonder"
   ]
  },
  {
   "cell_type": "code",
   "execution_count": 21,
   "metadata": {},
   "outputs": [
    {
     "data": {
      "text/plain": [
       "array(['goodreads_book_id'], dtype=object)"
      ]
     },
     "execution_count": 21,
     "metadata": {},
     "output_type": "execute_result"
    }
   ],
   "source": [
    "common_id = np.intersect1d(book_tags.columns ,books.columns)\n",
    "common_id"
   ]
  },
  {
   "cell_type": "code",
   "execution_count": 22,
   "metadata": {},
   "outputs": [
    {
     "data": {
      "text/plain": [
       "goodreads_book_id    11387515\n",
       "Name: 52100, dtype: int64"
      ]
     },
     "execution_count": 22,
     "metadata": {},
     "output_type": "execute_result"
    }
   ],
   "source": [
    "book_tags.sort_values(by='count' ,ascending=False).iloc[0, :][common_id]"
   ]
  },
  {
   "cell_type": "code",
   "execution_count": 23,
   "metadata": {},
   "outputs": [
    {
     "data": {
      "text/plain": [
       "18    Wonder\n",
       "Name: original_title, dtype: object"
      ]
     },
     "execution_count": 23,
     "metadata": {},
     "output_type": "execute_result"
    }
   ],
   "source": [
    "books[books['goodreads_book_id'] == 11387515]['original_title']"
   ]
  },
  {
   "cell_type": "markdown",
   "metadata": {},
   "source": [
    "**Question 7 :**\n",
    "\n",
    "Which book (goodreads_book_id) is marked as to-read by most users [books.csv,toread.csv] ? N\n",
    "\n",
    "**Answer :** Anastasia Krupnik"
   ]
  },
  {
   "cell_type": "code",
   "execution_count": 24,
   "metadata": {},
   "outputs": [
    {
     "data": {
      "text/plain": [
       "array(['book_id'], dtype=object)"
      ]
     },
     "execution_count": 24,
     "metadata": {},
     "output_type": "execute_result"
    }
   ],
   "source": [
    "common_id = np.intersect1d(books.columns, toread.columns)\n",
    "common_id"
   ]
  },
  {
   "cell_type": "code",
   "execution_count": 25,
   "metadata": {},
   "outputs": [
    {
     "data": {
      "text/plain": [
       "9974"
      ]
     },
     "execution_count": 25,
     "metadata": {},
     "output_type": "execute_result"
    }
   ],
   "source": [
    "book_id_val = toread.sort_values(by='book_id', ascending=False).iloc[0, :]['book_id']\n",
    "\n",
    "book_id_val"
   ]
  },
  {
   "cell_type": "code",
   "execution_count": 26,
   "metadata": {},
   "outputs": [
    {
     "data": {
      "text/plain": [
       "555    Anastasia Krupnik\n",
       "Name: original_title, dtype: object"
      ]
     },
     "execution_count": 26,
     "metadata": {},
     "output_type": "execute_result"
    }
   ],
   "source": [
    "books[books.book_id==book_id_val]['original_title']"
   ]
  },
  {
   "cell_type": "markdown",
   "metadata": {},
   "source": [
    "**Question 8 :**\n",
    "\n",
    "Which is the least used tag, i.e. mapped with the lowest number of books [book_tags.csv]   ? (In case of more than one tag, mention the tag id with the least numerical value)  N\n",
    "\n",
    "**Answer :** 5366"
   ]
  },
  {
   "cell_type": "code",
   "execution_count": 27,
   "metadata": {},
   "outputs": [
    {
     "data": {
      "text/plain": [
       "5366"
      ]
     },
     "execution_count": 27,
     "metadata": {},
     "output_type": "execute_result"
    }
   ],
   "source": [
    "book_tags.sort_values(by='count').iloc[0,:]['tag_id']"
   ]
  },
  {
   "cell_type": "code",
   "execution_count": 28,
   "metadata": {},
   "outputs": [
    {
     "data": {
      "text/plain": [
       "46299    1\n",
       "Name: count, dtype: int64"
      ]
     },
     "execution_count": 28,
     "metadata": {},
     "output_type": "execute_result"
    }
   ],
   "source": [
    "book_tags[book_tags['tag_id']==5366]['count']"
   ]
  },
  {
   "cell_type": "markdown",
   "metadata": {},
   "source": [
    "**Question 9 :**\n",
    "\n",
    "Which book (title) has the minimum ‘average_rating’  [books.csv] ? S\n",
    "\n",
    "**Answer :** The Chocolate War"
   ]
  },
  {
   "cell_type": "code",
   "execution_count": 29,
   "metadata": {},
   "outputs": [
    {
     "data": {
      "text/plain": [
       "250                                    The Chocolate War\n",
       "399                                     The Whipping Boy\n",
       "419                           Crispin: The Cross of Lead\n",
       "392                                             Wildwood\n",
       "148    Charlie and the Great Glass Elevator: The Furt...\n",
       "                             ...                        \n",
       "553                                                  NaN\n",
       "336                                         The Gruffalo\n",
       "501                            A Charlie Brown Christmas\n",
       "206                                                  NaN\n",
       "319       Disney's the Lion King (Disney Classic Series)\n",
       "Name: original_title, Length: 556, dtype: object"
      ]
     },
     "execution_count": 29,
     "metadata": {},
     "output_type": "execute_result"
    }
   ],
   "source": [
    "books.sort_values(by='average_rating')['original_title']\n"
   ]
  },
  {
   "cell_type": "markdown",
   "metadata": {},
   "source": [
    "**Question 10 :**\n",
    "\n",
    "Which book (goodreads_book_id) has the least number of count of tags given by the user  [book_tags.csv,books.csv] ? N\n",
    "\n",
    "**Answer :** Winnie the Pooh and Tigger Too"
   ]
  },
  {
   "cell_type": "code",
   "execution_count": 30,
   "metadata": {},
   "outputs": [
    {
     "data": {
      "text/plain": [
       "2617684"
      ]
     },
     "execution_count": 30,
     "metadata": {},
     "output_type": "execute_result"
    }
   ],
   "source": [
    "grd_id = book_tags.sort_values(by='count')['goodreads_book_id'].iloc[0]\n",
    "grd_id"
   ]
  },
  {
   "cell_type": "code",
   "execution_count": 31,
   "metadata": {},
   "outputs": [
    {
     "data": {
      "text/plain": [
       "407    Winnie the Pooh and Tigger Too\n",
       "Name: original_title, dtype: object"
      ]
     },
     "execution_count": 31,
     "metadata": {},
     "output_type": "execute_result"
    }
   ],
   "source": [
    "books[books.goodreads_book_id==grd_id]['original_title']"
   ]
  },
  {
   "cell_type": "markdown",
   "metadata": {},
   "source": [
    "**Question 11 :**\n",
    "\n",
    "How many tags are there in the dataset [book_tags.csv]  ? N\n",
    "\n",
    "**Answer :** 3387"
   ]
  },
  {
   "cell_type": "code",
   "execution_count": 32,
   "metadata": {},
   "outputs": [
    {
     "data": {
      "text/plain": [
       "3387"
      ]
     },
     "execution_count": 32,
     "metadata": {},
     "output_type": "execute_result"
    }
   ],
   "source": [
    "book_tags.tag_id.nunique()"
   ]
  },
  {
   "cell_type": "markdown",
   "metadata": {},
   "source": [
    "**Question 12 :**\n",
    "\n",
    "What is the average rating of all the books in the dataset based on ‘average_rating’  [books.csv]  ? N\n",
    "\n",
    "**Answer :** 4.092356115107914"
   ]
  },
  {
   "cell_type": "code",
   "execution_count": 33,
   "metadata": {},
   "outputs": [
    {
     "data": {
      "text/plain": [
       "4.092356115107914"
      ]
     },
     "execution_count": 33,
     "metadata": {},
     "output_type": "execute_result"
    }
   ],
   "source": [
    "books['average_rating'].mean()"
   ]
  },
  {
   "cell_type": "markdown",
   "metadata": {},
   "source": [
    "**Question 13 :**\n",
    "\n",
    "Find the number of books published in the year ‘2000’ based on the ‘original_publication_year’ [books.csv] ? N\n",
    "\n",
    "**Answer :** 14 "
   ]
  },
  {
   "cell_type": "code",
   "execution_count": 34,
   "metadata": {},
   "outputs": [
    {
     "data": {
      "text/plain": [
       "14"
      ]
     },
     "execution_count": 34,
     "metadata": {},
     "output_type": "execute_result"
    }
   ],
   "source": [
    "len(books[books['original_publication_year'] == 2000])"
   ]
  },
  {
   "cell_type": "markdown",
   "metadata": {},
   "source": [
    "**Question 14 :**\n",
    "\n",
    "Predict sentiment using Textblob. How many positive titles (title) are there [books.csv] ? (cut-off >0) N (3 marks)\n",
    "\n",
    "**Answer :** 48"
   ]
  },
  {
   "cell_type": "code",
   "execution_count": 35,
   "metadata": {},
   "outputs": [],
   "source": [
    "from sklearn.metrics import classification_report\n",
    "from textblob import TextBlob"
   ]
  },
  {
   "cell_type": "code",
   "execution_count": 39,
   "metadata": {},
   "outputs": [
    {
     "data": {
      "text/plain": [
       "book_id                       0\n",
       "goodreads_book_id             0\n",
       "best_book_id                  0\n",
       "work_id                       0\n",
       "books_count                   0\n",
       "isbn                          4\n",
       "isbn13                        0\n",
       "authors                       0\n",
       "original_publication_year     4\n",
       "original_title               39\n",
       "title                         0\n",
       "language_code                80\n",
       "average_rating                0\n",
       "ratings_count                 0\n",
       "work_ratings_count            0\n",
       "work_text_reviews_count       0\n",
       "ratings_1                     0\n",
       "ratings_2                     0\n",
       "ratings_3                     0\n",
       "ratings_4                     0\n",
       "ratings_5                     0\n",
       "image_url                     0\n",
       "small_image_url               0\n",
       "NonEnglish                    0\n",
       "dtype: int64"
      ]
     },
     "execution_count": 39,
     "metadata": {},
     "output_type": "execute_result"
    }
   ],
   "source": [
    "books.isnull().sum()"
   ]
  },
  {
   "cell_type": "code",
   "execution_count": 40,
   "metadata": {},
   "outputs": [],
   "source": [
    "books_clear = books.copy()\n",
    "books_clear.dropna(inplace=True)"
   ]
  },
  {
   "cell_type": "code",
   "execution_count": 41,
   "metadata": {},
   "outputs": [],
   "source": [
    "books_clear['TextBlob_Subjectivity'] = books_clear['original_title'].apply(lambda x : TextBlob(x).sentiment.subjectivity)\n",
    "\n",
    "books_clear['TextBlob_Polarity'] = books_clear['original_title'].apply(lambda x : TextBlob(x).sentiment.polarity)"
   ]
  },
  {
   "cell_type": "code",
   "execution_count": 42,
   "metadata": {},
   "outputs": [],
   "source": [
    "books_clear['TextBlob_Analysis'] = books_clear['TextBlob_Polarity'].apply(lambda x : 'Positive' if x>0 else 'negative')"
   ]
  },
  {
   "cell_type": "code",
   "execution_count": 43,
   "metadata": {},
   "outputs": [
    {
     "data": {
      "text/plain": [
       "negative    388\n",
       "Positive     48\n",
       "Name: TextBlob_Analysis, dtype: int64"
      ]
     },
     "execution_count": 43,
     "metadata": {},
     "output_type": "execute_result"
    }
   ],
   "source": [
    "books_clear['TextBlob_Analysis'].value_counts()"
   ]
  },
  {
   "cell_type": "markdown",
   "metadata": {},
   "source": [
    "**Question 15 :**\n",
    "\n",
    "Plot a bar chart in Flourish with top 20 unique tags  in descending order of ‘user records’ (the number of users tagged the given tag_id with the goodreads_book_id) [book_tags.csv] and share the published link.\n",
    "(2 marks)\n",
    "\n",
    "**Answer :**"
   ]
  },
  {
   "cell_type": "code",
   "execution_count": null,
   "metadata": {},
   "outputs": [],
   "source": []
  },
  {
   "cell_type": "markdown",
   "metadata": {},
   "source": [
    "**Question 16 :**\n",
    "\n",
    "Bucket the average_rating of books into 6 buckets [0,1,2,3,4,5] with 0.5 decimal rounding (eg: average_rating 3.5 to 4.4 will fall in bucket 4). \n",
    "\n",
    "Plot bar graph in Flourish to show total number of books in each rating bucket. [books.csv] and share the published link.\n",
    "(2 marks)\n",
    "\n",
    "**Answer :**"
   ]
  }
 ],
 "metadata": {
  "kernelspec": {
   "display_name": "Python 3.9.7 ('tensorflow')",
   "language": "python",
   "name": "python3"
  },
  "language_info": {
   "codemirror_mode": {
    "name": "ipython",
    "version": 3
   },
   "file_extension": ".py",
   "mimetype": "text/x-python",
   "name": "python",
   "nbconvert_exporter": "python",
   "pygments_lexer": "ipython3",
   "version": "3.9.7"
  },
  "orig_nbformat": 4,
  "vscode": {
   "interpreter": {
    "hash": "32f02dc107888b055323539767db1f9cf579f03b0ed3a3ace7986ed2d38433ec"
   }
  }
 },
 "nbformat": 4,
 "nbformat_minor": 2
}
